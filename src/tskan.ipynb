{
 "cells": [
  {
   "cell_type": "code",
   "execution_count": 1,
   "metadata": {},
   "outputs": [],
   "source": [
    "from kan import *\n",
    "import aeon\n",
    "import numpy as np\n",
    "from matplotlib import pyplot as plt"
   ]
  },
  {
   "cell_type": "code",
   "execution_count": 2,
   "metadata": {},
   "outputs": [],
   "source": [
    "import numpy as np\n",
    "from aeon.datasets import load_classification\n",
    "from sklearn.model_selection import train_test_split\n",
    "from sklearn.model_selection import StratifiedKFold\n",
    "from kan.utils import create_dataset_from_data\n",
    "import torch\n",
    "\n",
    "dtype = torch.get_default_dtype()"
   ]
  },
  {
   "cell_type": "markdown",
   "metadata": {},
   "source": [
    "# Dataset"
   ]
  },
  {
   "cell_type": "code",
   "execution_count": 3,
   "metadata": {},
   "outputs": [
    {
     "name": "stdout",
     "output_type": "stream",
     "text": [
      "torch.Size([1370, 2709]) torch.Size([1370]) cuda\n"
     ]
    }
   ],
   "source": [
    "X, y = load_classification(name=\"HandOutlines\")\n",
    "y = np.array(list(map(int, y)))\n",
    "X_train, X_test, y_train, y_test = train_test_split(X, y, test_size=0.2, random_state=42)\n",
    "\n",
    "\n",
    "#X, y = load_classification(name=\"Earthquakes\")\n",
    "X, y = load_classification(name=\"HandOutlines\")\n",
    "X = torch.tensor(X.squeeze(1)).type(dtype)\n",
    "y = np.array(y_test, dtype=int)\n",
    "# y = torch.tensor((list(map(int, y)))).type(torch.long)\n",
    "\n",
    "device = torch.device('cuda' if torch.cuda.is_available() else 'cpu')\n",
    "print(X.shape, y.shape, device)"
   ]
  },
  {
   "cell_type": "markdown",
   "metadata": {},
   "source": [
    "## Data split"
   ]
  },
  {
   "cell_type": "code",
   "execution_count": 4,
   "metadata": {},
   "outputs": [],
   "source": [
    "X_train, X_test, y_train, y_test = train_test_split(X, y, test_size=0.1, random_state=42) \n",
    "dataset = create_dataset_from_data(X_train, y_train, device=device)\n",
    "n_inputs, input_dim = dataset['train_input'].shape"
   ]
  },
  {
   "cell_type": "markdown",
   "metadata": {},
   "source": [
    "# Baselines"
   ]
  },
  {
   "cell_type": "markdown",
   "metadata": {},
   "source": [
    "# KAN"
   ]
  },
  {
   "cell_type": "code",
   "execution_count": 11,
   "metadata": {},
   "outputs": [],
   "source": [
    "# [n_dim, 30, 30, 30, n_class]\n",
    "# [n_dim, 30, 30, 30, 30, n_class]\n",
    "\n",
    "# [n_dim, 3, 3, n_class] k=3, g-5\n",
    "# [n_dim, 3, 3, 3, n_class] k=3, g-5"
   ]
  },
  {
   "cell_type": "code",
   "execution_count": 15,
   "metadata": {},
   "outputs": [
    {
     "name": "stdout",
     "output_type": "stream",
     "text": [
      "checkpoint directory created: ./model\n",
      "saving model version 0.0\n"
     ]
    },
    {
     "data": {
      "text/plain": [
       "tensor([[ 0.0183, -0.0122],\n",
       "        [ 0.0175, -0.0134],\n",
       "        [ 0.0176, -0.0087],\n",
       "        ...,\n",
       "        [ 0.0193, -0.0129],\n",
       "        [ 0.0217, -0.0143],\n",
       "        [ 0.0199, -0.0151]], device='cuda:0', grad_fn=<AddBackward0>)"
      ]
     },
     "execution_count": 15,
     "metadata": {},
     "output_type": "execute_result"
    }
   ],
   "source": [
    "model = KAN(width=[input_dim, 3, 3, 2], grid=3, k=3, seed=2024, device=device)\n",
    "model(dataset['train_input'])\n",
    "#model.plot(beta=10)"
   ]
  },
  {
   "cell_type": "code",
   "execution_count": 17,
   "metadata": {},
   "outputs": [],
   "source": [
    "def train_acc():\n",
    "    return torch.mean((torch.argmax(model(dataset['train_input']), dim=1) == dataset['train_label']).type(dtype))\n",
    "\n",
    "def test_acc():\n",
    "    return torch.mean((torch.argmax(model(dataset['test_input']), dim=1) == dataset['test_label']).type(dtype))"
   ]
  },
  {
   "cell_type": "code",
   "execution_count": 18,
   "metadata": {},
   "outputs": [
    {
     "name": "stderr",
     "output_type": "stream",
     "text": [
      "| train_loss: 3.00e-01 | test_loss: 9.28e-01 | reg: 3.33e+02 | : 100%|█| 50/50 [00:52<00:00,  1.05s/"
     ]
    },
    {
     "name": "stdout",
     "output_type": "stream",
     "text": [
      "saving model version 0.1\n"
     ]
    },
    {
     "name": "stderr",
     "output_type": "stream",
     "text": [
      "\n"
     ]
    },
    {
     "data": {
      "text/plain": [
       "(0.9716024398803711, 0.8785425424575806)"
      ]
     },
     "execution_count": 18,
     "metadata": {},
     "output_type": "execute_result"
    }
   ],
   "source": [
    "results = model.fit(dataset, opt=\"LBFGS\", steps=50, metrics=(train_acc, test_acc), loss_fn=torch.nn.CrossEntropyLoss());\n",
    "results['train_acc'][-1], results['test_acc'][-1]"
   ]
  }
 ],
 "metadata": {
  "kernelspec": {
   "display_name": "ts",
   "language": "python",
   "name": "python3"
  },
  "language_info": {
   "codemirror_mode": {
    "name": "ipython",
    "version": 3
   },
   "file_extension": ".py",
   "mimetype": "text/x-python",
   "name": "python",
   "nbconvert_exporter": "python",
   "pygments_lexer": "ipython3",
   "version": "3.10.15"
  }
 },
 "nbformat": 4,
 "nbformat_minor": 2
}
