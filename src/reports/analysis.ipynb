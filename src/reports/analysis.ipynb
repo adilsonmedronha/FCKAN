{
 "cells": [
  {
   "cell_type": "code",
   "execution_count": 60,
   "metadata": {},
   "outputs": [],
   "source": [
    "import pandas as pd\n",
    "import os "
   ]
  },
  {
   "cell_type": "markdown",
   "metadata": {},
   "source": [
    "# baselines performance across 10 runs"
   ]
  },
  {
   "cell_type": "code",
   "execution_count": 65,
   "metadata": {},
   "outputs": [
    {
     "name": "stdout",
     "output_type": "stream",
     "text": [
      "                           data  cls  acc_mean   acc_std   f1_mean    f1_std\n",
      "0   DistalPhalanxOutlineCorrect  CNN  0.793478  0.000000  0.789425  0.000000\n",
      "1   DistalPhalanxOutlineCorrect  FCN  0.764130  0.008784  0.762149  0.009103\n",
      "2   DistalPhalanxOutlineCorrect  MLP  0.688406  0.000000  0.643616  0.000000\n",
      "3                  HandOutlines  CNN  0.859459  0.000000  0.861638  0.000000\n",
      "4                  HandOutlines  FCN  0.655676  0.221124  0.593366  0.284984\n",
      "5                  HandOutlines  MLP  0.910811  0.000000  0.910422  0.000000\n",
      "6                    Strawberry  CNN  0.959459  0.000000  0.959621  0.000000\n",
      "7                    Strawberry  FCN  0.972703  0.003917  0.972815  0.003884\n",
      "8                    Strawberry  MLP  0.694595  0.000000  0.694356  0.000000\n",
      "9                   TwoPatterns  CNN  0.992500  0.000000  0.992501  0.000000\n",
      "10                  TwoPatterns  FCN  0.855100  0.002569  0.855066  0.002563\n",
      "11                  TwoPatterns  MLP  0.863250  0.000000  0.863287  0.000000\n",
      "12                        Wafer  CNN  0.959280  0.000000  0.955336  0.000000\n",
      "13                        Wafer  FCN  0.997567  0.000187  0.997554  0.000189\n",
      "14                        Wafer  MLP  0.993835  0.000000  0.993859  0.000000\n"
     ]
    }
   ],
   "source": [
    "results_path = \"data/baselines\"  \n",
    "files = [f for f in os.listdir(results_path) if f.startswith(\"baselines_run_\") and f.endswith(\".csv\")]\n",
    "\n",
    "combined_data = pd.DataFrame()\n",
    "\n",
    "for file in files:\n",
    "    file_path = os.path.join(results_path, file)\n",
    "    data = pd.read_csv(file_path)\n",
    "    combined_data = pd.concat([combined_data, data], ignore_index=True)\n",
    "\n",
    "aggregated_results = combined_data.groupby([\"Dataset\", \"Classifier\"])[[\"Accuracy\", \"F1 Score\"]].agg(['mean', 'std']).reset_index()\n",
    "#aggregated_results = aggregated_results.sort_values(by=[(\"Accuracy\", \"mean\")], ascending=False)\n",
    "aggregated_results.columns = ['data', 'cls', 'acc_mean', 'acc_std', 'f1_mean', 'f1_std']\n",
    "\n",
    "print(aggregated_results)\n",
    "\n",
    "aggregated_results.to_csv(\"baselines_aggregated_results.csv\", index=False)"
   ]
  },
  {
   "cell_type": "markdown",
   "metadata": {},
   "source": [
    "# Merging testset results of KAN after hsearch\n"
   ]
  },
  {
   "cell_type": "code",
   "execution_count": 76,
   "metadata": {},
   "outputs": [],
   "source": [
    "path = 'data/testset_results_KAN_after_hsearch/'\n",
    "files = [os.path.join(path, f) for f in os.listdir(path) if f.endswith(\".csv\")]\n",
    "\n",
    "combined_data = pd.DataFrame()\n",
    "for file in files:\n",
    "    data = pd.read_csv(file)\n",
    "    combined_data = pd.concat([combined_data, data], ignore_index=True)\n",
    "\n",
    "combined_data.to_csv(\"testset_results_KAN_after_hsearch.csv\", index=False)"
   ]
  },
  {
   "cell_type": "markdown",
   "metadata": {},
   "source": [
    "# hyperparameter search"
   ]
  },
  {
   "cell_type": "code",
   "execution_count": 62,
   "metadata": {},
   "outputs": [],
   "source": [
    "results_path = \"data/hserach/KAN\"\n",
    "files_name = os.listdir(results_path)\n",
    "\n",
    "dataframes = {}\n",
    "for file_name in files_name:\n",
    "    if file_name.endswith(\".csv\"):\n",
    "        full_path = os.path.join(results_path, file_name)\n",
    "        dataframes[file_name] = pd.read_csv(full_path)"
   ]
  },
  {
   "cell_type": "code",
   "execution_count": 64,
   "metadata": {},
   "outputs": [
    {
     "name": "stdout",
     "output_type": "stream",
     "text": [
      "Experiment: kan_Strawberry_hsearch_results.csv\n",
      "Best Parameters:\n",
      "  N=7, G=10, K=3\n",
      "  N=2, G=3, K=3\n",
      "  N=6, G=5, K=5\n",
      "  N=7, G=5, K=3\n",
      "  N=2, G=10, K=5\n",
      "  N=9, G=20, K=3\n",
      "  N=9, G=10, K=5\n",
      "  N=7, G=3, K=5\n",
      "  N=8, G=10, K=5\n",
      "----------------------------------------\n",
      "Experiment: kan_TwoPatterns_hsearch_results.csv\n",
      "Best Parameters:\n",
      "  N=4, G=3, K=3\n",
      "----------------------------------------\n",
      "Experiment: kan_Wafer_hsearch_results.csv\n",
      "Best Parameters:\n",
      "  N=9, G=5, K=3\n",
      "----------------------------------------\n",
      "Experiment: kan_DistalPhalanxOutlineCorrect_hsearch_results.csv\n",
      "Best Parameters:\n",
      "  N=5, G=5, K=5\n",
      "----------------------------------------\n",
      "Experiment: kan_HandOutlines_hsearch_results.csv\n",
      "Best Parameters:\n",
      "  N=2, G=3, K=5\n",
      "  N=7, G=3, K=3\n",
      "----------------------------------------\n"
     ]
    }
   ],
   "source": [
    "for experiment_name, data in dataframes.items():\n",
    "    best_params = data[data.rank_test_score == 1].params.values\n",
    "    print(f\"Experiment: {experiment_name}\")\n",
    "    print(\"Best Parameters:\")\n",
    "    for params in best_params:\n",
    "        print(f\"  {params}\")\n",
    "    print(\"-\" * 40)  "
   ]
  }
 ],
 "metadata": {
  "kernelspec": {
   "display_name": "tsnew",
   "language": "python",
   "name": "python3"
  },
  "language_info": {
   "codemirror_mode": {
    "name": "ipython",
    "version": 3
   },
   "file_extension": ".py",
   "mimetype": "text/x-python",
   "name": "python",
   "nbconvert_exporter": "python",
   "pygments_lexer": "ipython3",
   "version": "3.10.15"
  }
 },
 "nbformat": 4,
 "nbformat_minor": 2
}
